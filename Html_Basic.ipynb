{
  "nbformat": 4,
  "nbformat_minor": 0,
  "metadata": {
    "colab": {
      "provenance": []
    },
    "kernelspec": {
      "name": "python3",
      "display_name": "Python 3"
    },
    "language_info": {
      "name": "python"
    }
  },
  "cells": [
    {
      "cell_type": "code",
      "execution_count": null,
      "metadata": {
        "id": "9ORZo3ZfDsb2"
      },
      "outputs": [],
      "source": []
    },
    {
      "cell_type": "markdown",
      "source": [
        "# HTML | Basic\n",
        "Q.1 ) Explain the basic structure of an HTML page. Why is it important to follow\n",
        "this structure?\n",
        "  \n",
        "   - An HTML (HyperText Markup Language) page has a standard structure that helps browsers understand and render the content correctly.\n",
        "\n",
        "   Why Is This Structure Important?\n",
        "    - Browser Compatibility :  \n",
        "       Ensures all browsers interpret and render the content correctly.\n",
        "    - Maintainability :\n",
        "       A consistent structure makes the code easier to read, understand, and modify.\n",
        "    - Standards Compliance :\n",
        "         Helps follow best practices and web standards, improving cross-platform compatibility and future-proofing your site.\n",
        "\n",
        "Q.2 ) : Look at the code below. Can you find and fix the mistake?\n",
        "<!-- This is an HTML comment >\n",
        "# <!-- <h1>Welcome to my website</h1> >\n",
        "   \n"
      ],
      "metadata": {
        "id": "I_XX24bKD1Pp"
      }
    }
  ]
}